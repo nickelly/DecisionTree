{
 "cells": [
  {
   "cell_type": "code",
   "execution_count": 1,
   "id": "72cb388c",
   "metadata": {},
   "outputs": [],
   "source": [
    "import numpy as np\n",
    "from sklearn.metrics import accuracy_score\n",
    "from sklearn.model_selection import train_test_split\n",
    "from sklearn.datasets import load_iris\n",
    "from sklearn import tree\n",
    "import dtree"
   ]
  },
  {
   "cell_type": "code",
   "execution_count": 2,
   "id": "4210abe6",
   "metadata": {},
   "outputs": [
    {
     "name": "stdout",
     "output_type": "stream",
     "text": [
      "Sklearn decision tree accuracy score:  0.96\n",
      "Custom decision tree accuracy:  0.88\n",
      "Custom random forest accuracy:  1.0\n"
     ]
    }
   ],
   "source": [
    "#Testing on iris dataset\n",
    "iris = load_iris()\n",
    "irisDS = iris.data\n",
    "irisLabels = iris.target\n",
    "for i in range(irisDS.shape[1]):\n",
    "    irisDS[:,i] = dtree.toCategorical(irisDS[:,i], 10)\n",
    "\n",
    "xtrain, xtest, ytrain, ytest = train_test_split(irisDS, irisLabels, test_size=0.33, random_state=10)\n",
    "\n",
    "skTree = tree.DecisionTreeClassifier()\n",
    "customTree = dtree.Dtree()\n",
    "customForest = dtree.RandomForest()\n",
    "\n",
    "skTree = skTree.fit(xtrain, ytrain)\n",
    "customTree.fit(xtrain, ytrain)\n",
    "customForest.fit(xtrain, ytrain)\n",
    "\n",
    "skPred = skTree.predict(xtest)\n",
    "print(\"Sklearn decision tree accuracy score: \", accuracy_score(ytest, skPred))\n",
    "dtpred = customTree.predict(xtest)\n",
    "print(\"Custom decision tree accuracy: \", accuracy_score(ytest, dtpred))\n",
    "rfPred = customForest.predict(xtest)\n",
    "print(\"Custom random forest accuracy: \", accuracy_score(ytest, rfPred))"
   ]
  }
 ],
 "metadata": {
  "kernelspec": {
   "display_name": "Python 3 (ipykernel)",
   "language": "python",
   "name": "python3"
  },
  "language_info": {
   "codemirror_mode": {
    "name": "ipython",
    "version": 3
   },
   "file_extension": ".py",
   "mimetype": "text/x-python",
   "name": "python",
   "nbconvert_exporter": "python",
   "pygments_lexer": "ipython3",
   "version": "3.9.13"
  }
 },
 "nbformat": 4,
 "nbformat_minor": 5
}
